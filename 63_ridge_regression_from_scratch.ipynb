{
  "cells": [
    {
      "cell_type": "markdown",
      "metadata": {
        "id": "view-in-github",
        "colab_type": "text"
      },
      "source": [
        "<a href=\"https://colab.research.google.com/github/adnanhussain8082/ml/blob/main/63_ridge_regression_from_scratch.ipynb\" target=\"_parent\"><img src=\"https://colab.research.google.com/assets/colab-badge.svg\" alt=\"Open In Colab\"/></a>"
      ]
    },
    {
      "cell_type": "code",
      "execution_count": null,
      "id": "99dcba6d",
      "metadata": {
        "id": "99dcba6d"
      },
      "outputs": [],
      "source": [
        "from sklearn.datasets import load_diabetes\n",
        "from sklearn.metrics import r2_score\n",
        "import numpy as np"
      ]
    },
    {
      "cell_type": "code",
      "execution_count": null,
      "id": "821f3faf",
      "metadata": {
        "id": "821f3faf"
      },
      "outputs": [],
      "source": [
        "X,y = load_diabetes(return_X_y=True)"
      ]
    },
    {
      "cell_type": "code",
      "execution_count": null,
      "id": "741b4551",
      "metadata": {
        "id": "741b4551"
      },
      "outputs": [],
      "source": [
        "from sklearn.model_selection import train_test_split"
      ]
    },
    {
      "cell_type": "code",
      "execution_count": null,
      "id": "5d4d2d1b",
      "metadata": {
        "id": "5d4d2d1b"
      },
      "outputs": [],
      "source": [
        "X_train,X_test,y_train,y_test = train_test_split(X,y,test_size=0.2,random_state=4)"
      ]
    },
    {
      "cell_type": "code",
      "execution_count": null,
      "id": "30a774ef",
      "metadata": {
        "id": "30a774ef"
      },
      "outputs": [],
      "source": [
        "from sklearn.linear_model import Ridge"
      ]
    },
    {
      "cell_type": "code",
      "execution_count": null,
      "id": "5a15c5fe",
      "metadata": {
        "id": "5a15c5fe"
      },
      "outputs": [],
      "source": [
        "reg = Ridge(alpha=0.1,solver='cholesky')"
      ]
    },
    {
      "cell_type": "code",
      "execution_count": null,
      "id": "7d66d9f4",
      "metadata": {
        "id": "7d66d9f4",
        "outputId": "165586b3-a81a-4806-ce1b-de4801ec8e8d"
      },
      "outputs": [
        {
          "data": {
            "text/plain": [
              "Ridge(alpha=0.1, solver='cholesky')"
            ]
          },
          "execution_count": 124,
          "metadata": {},
          "output_type": "execute_result"
        }
      ],
      "source": [
        "reg.fit(X_train,y_train)"
      ]
    },
    {
      "cell_type": "code",
      "execution_count": null,
      "id": "09460a79",
      "metadata": {
        "id": "09460a79",
        "outputId": "e57993cd-8561-4bb3-998e-2da8857c8df3"
      },
      "outputs": [
        {
          "data": {
            "text/plain": [
              "0.46930668289209754"
            ]
          },
          "execution_count": 125,
          "metadata": {},
          "output_type": "execute_result"
        }
      ],
      "source": [
        "y_pred = reg.predict(X_test)\n",
        "r2_score(y_test,y_pred)"
      ]
    },
    {
      "cell_type": "code",
      "execution_count": null,
      "id": "927958f9",
      "metadata": {
        "id": "927958f9",
        "outputId": "319f61b8-8bd9-4bb7-f978-3debf4e3c09b"
      },
      "outputs": [
        {
          "name": "stdout",
          "output_type": "stream",
          "text": [
            "[  44.02025512 -241.69666596  452.98163524  332.04993719  -76.34010147\n",
            "  -68.52063199 -164.98817213  149.9687712   431.61985919   58.51762582]\n",
            "150.89050209333024\n"
          ]
        }
      ],
      "source": [
        "print(reg.coef_)\n",
        "print(reg.intercept_)"
      ]
    },
    {
      "cell_type": "code",
      "execution_count": null,
      "id": "7ac16788",
      "metadata": {
        "id": "7ac16788"
      },
      "outputs": [],
      "source": [
        "class MeraRidge:\n",
        "\n",
        "    def __init__(self,alpha=0.1):\n",
        "\n",
        "        self.alpha = alpha\n",
        "        self.coef_ = None\n",
        "        self.intercept_ = None\n",
        "\n",
        "    def fit(self,X_train,y_train):\n",
        "\n",
        "        X_train = np.insert(X_train,0,1,axis=1)\n",
        "        I = np.identity(X_train.shape[1])\n",
        "        I[0][0] = 0\n",
        "        result = np.linalg.inv(np.dot(X_train.T,X_train) + self.alpha * I).dot(X_train.T).dot(y_train)\n",
        "        self.intercept_ = result[0]\n",
        "        self.coef_ = result[1:]\n",
        "\n",
        "    def predict(self,X_test):\n",
        "        return np.dot(X_test,self.coef_) + self.intercept_"
      ]
    },
    {
      "cell_type": "code",
      "execution_count": null,
      "id": "0884ea38",
      "metadata": {
        "id": "0884ea38",
        "outputId": "0c5c5dee-d68c-439c-afeb-a564c66abfc5"
      },
      "outputs": [
        {
          "name": "stdout",
          "output_type": "stream",
          "text": [
            "0.46930668289209776\n",
            "[  44.02025512 -241.69666596  452.98163524  332.04993719  -76.34010147\n",
            "  -68.52063199 -164.98817213  149.9687712   431.61985919   58.51762582]\n",
            "150.8905020933302\n"
          ]
        }
      ],
      "source": [
        "reg = MeraRidge()\n",
        "reg.fit(X_train,y_train)\n",
        "y_pred = reg.predict(X_test)\n",
        "print(r2_score(y_test,y_pred))\n",
        "print(reg.coef_)\n",
        "print(reg.intercept_)"
      ]
    },
    {
      "cell_type": "code",
      "execution_count": null,
      "id": "807e38bc",
      "metadata": {
        "id": "807e38bc"
      },
      "outputs": [],
      "source": []
    }
  ],
  "metadata": {
    "kernelspec": {
      "display_name": "Python 3",
      "language": "python",
      "name": "python3"
    },
    "language_info": {
      "codemirror_mode": {
        "name": "ipython",
        "version": 3
      },
      "file_extension": ".py",
      "mimetype": "text/x-python",
      "name": "python",
      "nbconvert_exporter": "python",
      "pygments_lexer": "ipython3",
      "version": "3.8.8"
    },
    "colab": {
      "provenance": [],
      "include_colab_link": true
    }
  },
  "nbformat": 4,
  "nbformat_minor": 5
}